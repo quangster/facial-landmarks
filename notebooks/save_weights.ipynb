{
 "cells": [
  {
   "cell_type": "code",
   "execution_count": 1,
   "metadata": {},
   "outputs": [
    {
     "name": "stderr",
     "output_type": "stream",
     "text": [
      "/home/quangster/miniconda3/envs/filter-env/lib/python3.10/site-packages/onnxscript/converter.py:820: FutureWarning: 'onnxscript.values.Op.param_schemas' is deprecated in version 0.1 and will be removed in the future. Please use '.op_signature' instead.\n",
      "  param_schemas = callee.param_schemas()\n",
      "/home/quangster/miniconda3/envs/filter-env/lib/python3.10/site-packages/onnxscript/converter.py:820: FutureWarning: 'onnxscript.values.OnnxFunction.param_schemas' is deprecated in version 0.1 and will be removed in the future. Please use '.op_signature' instead.\n",
      "  param_schemas = callee.param_schemas()\n"
     ]
    }
   ],
   "source": [
    "import torch\n",
    "import torch.nn as nn\n",
    "from torchvision import models\n",
    "from torchinfo import summary"
   ]
  },
  {
   "cell_type": "markdown",
   "metadata": {},
   "source": [
    "## Resnet18"
   ]
  },
  {
   "cell_type": "code",
   "execution_count": 2,
   "metadata": {},
   "outputs": [],
   "source": [
    "class ResNet(nn.Module):\n",
    "    def __init__(self, model_name: str = \"resnet18\", weights: str = \"DEFAULT\"):\n",
    "        super().__init__()\n",
    "        self.network = models.get_model(name=\"resnet18\", weights=weights)\n",
    "        self.network.fc = nn.Linear(self.network.fc.in_features, 136)\n",
    "\n",
    "    def forward(self, x: torch.Tensor) -> torch.Tensor:\n",
    "        x = self.network(x)\n",
    "        x = x.reshape(x.size(0), 68, 2)\n",
    "        return x"
   ]
  },
  {
   "cell_type": "code",
   "execution_count": 3,
   "metadata": {},
   "outputs": [
    {
     "data": {
      "text/plain": [
       "=============================================================================================================================\n",
       "Layer (type (var_name))                       Input Shape          Output Shape         Param #              Trainable\n",
       "=============================================================================================================================\n",
       "ResNet (ResNet)                               [1, 3, 256, 256]     [1, 68, 2]           --                   True\n",
       "├─ResNet (network)                            [1, 3, 256, 256]     [1, 136]             --                   True\n",
       "│    └─Conv2d (conv1)                         [1, 3, 256, 256]     [1, 64, 128, 128]    9,408                True\n",
       "│    └─BatchNorm2d (bn1)                      [1, 64, 128, 128]    [1, 64, 128, 128]    128                  True\n",
       "│    └─ReLU (relu)                            [1, 64, 128, 128]    [1, 64, 128, 128]    --                   --\n",
       "│    └─MaxPool2d (maxpool)                    [1, 64, 128, 128]    [1, 64, 64, 64]      --                   --\n",
       "│    └─Sequential (layer1)                    [1, 64, 64, 64]      [1, 64, 64, 64]      --                   True\n",
       "│    │    └─BasicBlock (0)                    [1, 64, 64, 64]      [1, 64, 64, 64]      73,984               True\n",
       "│    │    └─BasicBlock (1)                    [1, 64, 64, 64]      [1, 64, 64, 64]      73,984               True\n",
       "│    └─Sequential (layer2)                    [1, 64, 64, 64]      [1, 128, 32, 32]     --                   True\n",
       "│    │    └─BasicBlock (0)                    [1, 64, 64, 64]      [1, 128, 32, 32]     230,144              True\n",
       "│    │    └─BasicBlock (1)                    [1, 128, 32, 32]     [1, 128, 32, 32]     295,424              True\n",
       "│    └─Sequential (layer3)                    [1, 128, 32, 32]     [1, 256, 16, 16]     --                   True\n",
       "│    │    └─BasicBlock (0)                    [1, 128, 32, 32]     [1, 256, 16, 16]     919,040              True\n",
       "│    │    └─BasicBlock (1)                    [1, 256, 16, 16]     [1, 256, 16, 16]     1,180,672            True\n",
       "│    └─Sequential (layer4)                    [1, 256, 16, 16]     [1, 512, 8, 8]       --                   True\n",
       "│    │    └─BasicBlock (0)                    [1, 256, 16, 16]     [1, 512, 8, 8]       3,673,088            True\n",
       "│    │    └─BasicBlock (1)                    [1, 512, 8, 8]       [1, 512, 8, 8]       4,720,640            True\n",
       "│    └─AdaptiveAvgPool2d (avgpool)            [1, 512, 8, 8]       [1, 512, 1, 1]       --                   --\n",
       "│    └─Linear (fc)                            [1, 512]             [1, 136]             69,768               True\n",
       "=============================================================================================================================\n",
       "Total params: 11,246,280\n",
       "Trainable params: 11,246,280\n",
       "Non-trainable params: 0\n",
       "Total mult-adds (G): 2.37\n",
       "=============================================================================================================================\n",
       "Input size (MB): 0.79\n",
       "Forward/backward pass size (MB): 51.91\n",
       "Params size (MB): 44.99\n",
       "Estimated Total Size (MB): 97.68\n",
       "============================================================================================================================="
      ]
     },
     "execution_count": 3,
     "metadata": {},
     "output_type": "execute_result"
    }
   ],
   "source": [
    "resnet18 = ResNet()\n",
    "summary(\n",
    "    model=resnet18,\n",
    "    input_size=[1, 3, 256, 256],\n",
    "    col_names=[\"input_size\", \"output_size\", \"num_params\", \"trainable\"],\n",
    "    col_width=20,\n",
    "    row_settings=[\"var_names\"],\n",
    ")"
   ]
  },
  {
   "cell_type": "code",
   "execution_count": 4,
   "metadata": {},
   "outputs": [
    {
     "name": "stdout",
     "output_type": "stream",
     "text": [
      "\n",
      "INPUT SHAPE: torch.Size([16, 3, 256, 256])\n",
      "OUTPUT SHAPE: torch.Size([16, 68, 2])\n"
     ]
    }
   ],
   "source": [
    "# test input & output shape\n",
    "random_input = torch.randn([16, 3, 256, 256])\n",
    "output = resnet18(random_input)\n",
    "print(f\"\\nINPUT SHAPE: {random_input.shape}\")\n",
    "print(f\"OUTPUT SHAPE: {output.shape}\")"
   ]
  },
  {
   "cell_type": "markdown",
   "metadata": {},
   "source": [
    "### Load lightning weights"
   ]
  },
  {
   "cell_type": "code",
   "execution_count": 5,
   "metadata": {},
   "outputs": [
    {
     "name": "stderr",
     "output_type": "stream",
     "text": [
      "/tmp/ipykernel_25350/2989238060.py:1: FutureWarning: You are using `torch.load` with `weights_only=False` (the current default value), which uses the default pickle module implicitly. It is possible to construct malicious pickle data which will execute arbitrary code during unpickling (See https://github.com/pytorch/pytorch/blob/main/SECURITY.md#untrusted-models for more details). In a future release, the default value for `weights_only` will be flipped to `True`. This limits the functions that could be executed during unpickling. Arbitrary objects will no longer be allowed to be loaded via this mode unless they are explicitly allowlisted by the user via `torch.serialization.add_safe_globals`. We recommend you start setting `weights_only=True` for any use case where you don't have full control of the loaded file. Please open an issue on GitHub for any issues related to this experimental feature.\n",
      "  weights = torch.load(\"../ckpts/resnet18.ckpt\", map_location=torch.device(\"cpu\"))\n",
      "/home/quangster/miniconda3/envs/filter-env/lib/python3.10/site-packages/tqdm/auto.py:21: TqdmWarning: IProgress not found. Please update jupyter and ipywidgets. See https://ipywidgets.readthedocs.io/en/stable/user_install.html\n",
      "  from .autonotebook import tqdm as notebook_tqdm\n",
      "/home/quangster/miniconda3/envs/filter-env/lib/python3.10/site-packages/albumentations/__init__.py:24: UserWarning: A new version of Albumentations is available: 1.4.21 (you have 1.4.20). Upgrade using: pip install -U albumentations. To disable automatic update checks, set the environment variable NO_ALBUMENTATIONS_UPDATE to 1.\n",
      "  check_for_updates()\n"
     ]
    },
    {
     "data": {
      "text/plain": [
       "<All keys matched successfully>"
      ]
     },
     "execution_count": 5,
     "metadata": {},
     "output_type": "execute_result"
    }
   ],
   "source": [
    "weights = torch.load(\"../ckpts/resnet18.ckpt\", map_location=torch.device(\"cpu\"))\n",
    "new_state_dict = {}\n",
    "for key, value in weights[\"state_dict\"].items():\n",
    "    new_key = key.replace(\"net.\", \"\")\n",
    "    new_state_dict[new_key] = value\n",
    "resnet18.load_state_dict(new_state_dict)"
   ]
  },
  {
   "cell_type": "markdown",
   "metadata": {},
   "source": [
    "### Save torch weights"
   ]
  },
  {
   "cell_type": "code",
   "execution_count": 6,
   "metadata": {},
   "outputs": [],
   "source": [
    "torch.save(resnet18.state_dict(), \"../ckpts/resnet18.pth\")"
   ]
  },
  {
   "cell_type": "markdown",
   "metadata": {},
   "source": [
    "## MobilenetV3"
   ]
  },
  {
   "cell_type": "code",
   "execution_count": 7,
   "metadata": {},
   "outputs": [],
   "source": [
    "class MobileNet(nn.Module):\n",
    "    def __init__(self):\n",
    "        super().__init__()\n",
    "        self.network = models.get_model(name=\"mobilenet_v3_large\")\n",
    "        self.network.classifier = nn.Sequential(\n",
    "            nn.Linear(self.network.classifier[0].in_features, 512, bias=True),\n",
    "            nn.Hardswish(),\n",
    "            nn.Dropout(p=0.2, inplace=True),\n",
    "            nn.Linear(512, 136, bias=True)\n",
    "        )\n",
    "    \n",
    "    def forward(self, x: torch.Tensor) -> torch.Tensor:\n",
    "        x = self.network(x)\n",
    "        x = x.reshape(x.size(0), 68, 2)\n",
    "        return x"
   ]
  },
  {
   "cell_type": "code",
   "execution_count": 8,
   "metadata": {},
   "outputs": [
    {
     "data": {
      "text/plain": [
       "=================================================================================================================================================\n",
       "Layer (type (var_name))                                           Input Shape          Output Shape         Param #              Trainable\n",
       "=================================================================================================================================================\n",
       "MobileNet (MobileNet)                                             [1, 3, 256, 256]     [1, 68, 2]           --                   True\n",
       "├─MobileNetV3 (network)                                           [1, 3, 256, 256]     [1, 136]             --                   True\n",
       "│    └─Sequential (features)                                      [1, 3, 256, 256]     [1, 960, 8, 8]       --                   True\n",
       "│    │    └─Conv2dNormActivation (0)                              [1, 3, 256, 256]     [1, 16, 128, 128]    464                  True\n",
       "│    │    └─InvertedResidual (1)                                  [1, 16, 128, 128]    [1, 16, 128, 128]    464                  True\n",
       "│    │    └─InvertedResidual (2)                                  [1, 16, 128, 128]    [1, 24, 64, 64]      3,440                True\n",
       "│    │    └─InvertedResidual (3)                                  [1, 24, 64, 64]      [1, 24, 64, 64]      4,440                True\n",
       "│    │    └─InvertedResidual (4)                                  [1, 24, 64, 64]      [1, 40, 32, 32]      10,328               True\n",
       "│    │    └─InvertedResidual (5)                                  [1, 40, 32, 32]      [1, 40, 32, 32]      20,992               True\n",
       "│    │    └─InvertedResidual (6)                                  [1, 40, 32, 32]      [1, 40, 32, 32]      20,992               True\n",
       "│    │    └─InvertedResidual (7)                                  [1, 40, 32, 32]      [1, 80, 16, 16]      32,080               True\n",
       "│    │    └─InvertedResidual (8)                                  [1, 80, 16, 16]      [1, 80, 16, 16]      34,760               True\n",
       "│    │    └─InvertedResidual (9)                                  [1, 80, 16, 16]      [1, 80, 16, 16]      31,992               True\n",
       "│    │    └─InvertedResidual (10)                                 [1, 80, 16, 16]      [1, 80, 16, 16]      31,992               True\n",
       "│    │    └─InvertedResidual (11)                                 [1, 80, 16, 16]      [1, 112, 16, 16]     214,424              True\n",
       "│    │    └─InvertedResidual (12)                                 [1, 112, 16, 16]     [1, 112, 16, 16]     386,120              True\n",
       "│    │    └─InvertedResidual (13)                                 [1, 112, 16, 16]     [1, 160, 8, 8]       429,224              True\n",
       "│    │    └─InvertedResidual (14)                                 [1, 160, 8, 8]       [1, 160, 8, 8]       797,360              True\n",
       "│    │    └─InvertedResidual (15)                                 [1, 160, 8, 8]       [1, 160, 8, 8]       797,360              True\n",
       "│    │    └─Conv2dNormActivation (16)                             [1, 160, 8, 8]       [1, 960, 8, 8]       155,520              True\n",
       "│    └─AdaptiveAvgPool2d (avgpool)                                [1, 960, 8, 8]       [1, 960, 1, 1]       --                   --\n",
       "│    └─Sequential (classifier)                                    [1, 960]             [1, 136]             --                   True\n",
       "│    │    └─Linear (0)                                            [1, 960]             [1, 512]             492,032              True\n",
       "│    │    └─Hardswish (1)                                         [1, 512]             [1, 512]             --                   --\n",
       "│    │    └─Dropout (2)                                           [1, 512]             [1, 512]             --                   --\n",
       "│    │    └─Linear (3)                                            [1, 512]             [1, 136]             69,768               True\n",
       "=================================================================================================================================================\n",
       "Total params: 3,533,752\n",
       "Trainable params: 3,533,752\n",
       "Non-trainable params: 0\n",
       "Total mult-adds (M): 279.75\n",
       "=================================================================================================================================================\n",
       "Input size (MB): 0.79\n",
       "Forward/backward pass size (MB): 91.99\n",
       "Params size (MB): 14.14\n",
       "Estimated Total Size (MB): 106.91\n",
       "================================================================================================================================================="
      ]
     },
     "execution_count": 8,
     "metadata": {},
     "output_type": "execute_result"
    }
   ],
   "source": [
    "mobilenetv3 = MobileNet()\n",
    "summary(\n",
    "    model=mobilenetv3,\n",
    "    input_size=[1, 3, 256, 256],\n",
    "    col_names=[\"input_size\", \"output_size\", \"num_params\", \"trainable\"],\n",
    "    col_width=20,\n",
    "    row_settings=[\"var_names\"],\n",
    ")"
   ]
  },
  {
   "cell_type": "code",
   "execution_count": 9,
   "metadata": {},
   "outputs": [
    {
     "name": "stdout",
     "output_type": "stream",
     "text": [
      "\n",
      "INPUT SHAPE: torch.Size([16, 3, 256, 256])\n",
      "OUTPUT SHAPE: torch.Size([16, 68, 2])\n"
     ]
    }
   ],
   "source": [
    "# test input & output shape\n",
    "random_input = torch.randn([16, 3, 256, 256])\n",
    "output = mobilenetv3(random_input)\n",
    "print(f\"\\nINPUT SHAPE: {random_input.shape}\")\n",
    "print(f\"OUTPUT SHAPE: {output.shape}\")"
   ]
  },
  {
   "cell_type": "markdown",
   "metadata": {},
   "source": [
    "### Load lightning weights"
   ]
  },
  {
   "cell_type": "code",
   "execution_count": 10,
   "metadata": {},
   "outputs": [
    {
     "name": "stderr",
     "output_type": "stream",
     "text": [
      "/tmp/ipykernel_25350/3659367842.py:1: FutureWarning: You are using `torch.load` with `weights_only=False` (the current default value), which uses the default pickle module implicitly. It is possible to construct malicious pickle data which will execute arbitrary code during unpickling (See https://github.com/pytorch/pytorch/blob/main/SECURITY.md#untrusted-models for more details). In a future release, the default value for `weights_only` will be flipped to `True`. This limits the functions that could be executed during unpickling. Arbitrary objects will no longer be allowed to be loaded via this mode unless they are explicitly allowlisted by the user via `torch.serialization.add_safe_globals`. We recommend you start setting `weights_only=True` for any use case where you don't have full control of the loaded file. Please open an issue on GitHub for any issues related to this experimental feature.\n",
      "  weights = torch.load(\"../ckpts/mobilenetv3.ckpt\", map_location=torch.device('cpu'))\n"
     ]
    },
    {
     "data": {
      "text/plain": [
       "<All keys matched successfully>"
      ]
     },
     "execution_count": 10,
     "metadata": {},
     "output_type": "execute_result"
    }
   ],
   "source": [
    "weights = torch.load(\"../ckpts/mobilenetv3.ckpt\", map_location=torch.device('cpu'))\n",
    "new_state_dict = {}\n",
    "for key, value in weights[\"state_dict\"].items():\n",
    "    new_key = key.replace(\"net.\", \"\")\n",
    "    new_state_dict[new_key] = value\n",
    "mobilenetv3.load_state_dict(new_state_dict)"
   ]
  },
  {
   "cell_type": "markdown",
   "metadata": {},
   "source": [
    "### Save torch weights"
   ]
  },
  {
   "cell_type": "code",
   "execution_count": 11,
   "metadata": {},
   "outputs": [],
   "source": [
    "torch.save(mobilenetv3.state_dict(), \"../ckpts/mobilenetv3.pth\")"
   ]
  }
 ],
 "metadata": {
  "kernelspec": {
   "display_name": "filter-env",
   "language": "python",
   "name": "python3"
  },
  "language_info": {
   "codemirror_mode": {
    "name": "ipython",
    "version": 3
   },
   "file_extension": ".py",
   "mimetype": "text/x-python",
   "name": "python",
   "nbconvert_exporter": "python",
   "pygments_lexer": "ipython3",
   "version": "3.10.13"
  }
 },
 "nbformat": 4,
 "nbformat_minor": 2
}
